{
 "cells": [
  {
   "cell_type": "code",
   "execution_count": 3,
   "metadata": {},
   "outputs": [],
   "source": [
    "#using a tree-based feature reduction algorithm\n",
    "import numpy as np\n",
    "import matplotlib.pyplot as plt\n",
    "from sklearn.ensemble import ExtraTreesClassifier\n",
    "from sklearn.feature_selection import SelectFromModel\n",
    "import pandas as pd\n",
    "\n",
    "DATAPATH='/Users/anca/Downloads/Hack-H-er413-master 2/model/full_random_sample.csv'\n",
    "df=pd.read_csv(DATAPATH)\n",
    "useful_columns=['hospital_death','age', 'bun_apache', 'gcs_eyes_apache', 'gcs_motor_apache',\n",
    "       'gcs_verbal_apache', 'heart_rate_apache', 'intubated_apache',\n",
    "       'temp_apache', 'ventilated_apache', 'd1_diasbp_min',\n",
    "       'd1_diasbp_noninvasive_min', 'd1_mbp_min', 'd1_mbp_noninvasive_min',\n",
    "       'd1_spo2_min', 'd1_sysbp_min', 'd1_sysbp_noninvasive_min',\n",
    "       'h1_resprate_max', 'h1_sysbp_min', 'd1_bun_min',\n",
    "       'apache_4a_icu_death_prob']\n",
    "df=df[useful_columns]\n",
    "df_majority=df[df['hospital_death']==0]\n",
    "df_minority=df[df['hospital_death']==1]\n",
    "\n",
    "df_majority_downsampled = df_majority.sample(replace=False,    # sample without replacement\n",
    "                                             n=df_minority.shape[0],\n",
    "                                             random_state=0)     # to match minority class    #reproducible results\n",
    "df_downsampled = pd.concat([df_majority_downsampled, df_minority])\n",
    "working_df=df_downsampled\n"
   ]
  },
  {
   "cell_type": "code",
   "execution_count": 4,
   "metadata": {},
   "outputs": [],
   "source": [
    "y=working_df.pop('hospital_death')\n",
    "length_partial=working_df.shape[0]\n",
    "#working_df.pop('apache_4a_hospital_death_prob')\n",
    "#working_df.pop('apache_4a_icu_death_prob')\n",
    "#doctor_pred_partial=working_df.pop('apache_4a_icu_death_prob')\n",
    "#doctor_pred_partial=(doctor_pred_partial>0.5)*np.ones(length_partial)\n",
    "X=working_df\n",
    "#y=y.to_numpy()\n",
    "#X=X.to_numpy()\n",
    "from sklearn.model_selection import train_test_split\n",
    "X_train, X_test, y_train, y_test = train_test_split(X, y, test_size=0.2, random_state=0)\n",
    "#y_doctor_test_balanced=doctor_pred_partial.sample(replace=False, n=3000, random_state=0)\n",
    "#y_doctor_pred_balanced=y.sample(replace=False, n=3000, random_state=0)"
   ]
  },
  {
   "cell_type": "code",
   "execution_count": 5,
   "metadata": {},
   "outputs": [
    {
     "data": {
      "image/png": "[encoded data removed]",
      "text/plain": [
       "<Figure size 432x288 with 1 Axes>"
      ]
     },
     "metadata": {
      "needs_background": "light"
     },
     "output_type": "display_data"
    },
    {
     "name": "stdout",
     "output_type": "stream",
     "text": [
      "Index(['age', 'gcs_motor_apache', 'gcs_verbal_apache', 'ventilated_apache',\n",
      "       'd1_spo2_min', 'd1_sysbp_min', 'd1_sysbp_noninvasive_min',\n",
      "       'h1_resprate_max', 'd1_bun_min', 'apache_4a_icu_death_prob'],\n",
      "      dtype='object')\n",
      "Index(['age', 'bun_apache', 'gcs_eyes_apache', 'gcs_motor_apache',\n",
      "       'gcs_verbal_apache', 'heart_rate_apache', 'intubated_apache',\n",
      "       'temp_apache', 'ventilated_apache', 'd1_diasbp_min',\n",
      "       'd1_diasbp_noninvasive_min', 'd1_mbp_min', 'd1_mbp_noninvasive_min',\n",
      "       'd1_spo2_min', 'd1_sysbp_min', 'd1_sysbp_noninvasive_min',\n",
      "       'h1_resprate_max', 'h1_sysbp_min', 'd1_bun_min',\n",
      "       'apache_4a_icu_death_prob'],\n",
      "      dtype='object')\n"
     ]
    }
   ],
   "source": [
    "#df=df.to_numpy()\n",
    "#need to insert dataset below\n",
    "#X=X.to_numpy()\n",
    "#y=y.to_numpy()\n",
    "#X.shape\n",
    "\n",
    "#GET IMPORTANT FEATURES\n",
    "#clf=classifier :))#\n",
    "\n",
    "clf = ExtraTreesClassifier(n_estimators=50, min_samples_leaf=10, max_features=20)\n",
    "#n_estimtors = number of trees in forest\n",
    "#min_samples_split= minumum number before node splitting in tree, maybe 5\n",
    "#min_samples_leaf\n",
    "#max_features\n",
    "clf = clf.fit(X_train, y_train)\n",
    "\n",
    "clf.feature_importances_ \n",
    "\n",
    "#print(clf.feature_importances_ )\n",
    "copy_importances=np.sort(clf.feature_importances_)\n",
    "copy_importances=np.flip(copy_importances)\n",
    "#print(copy_importances)\n",
    "#Get the 10th and 20th most important features\n",
    "no_10=copy_importances[9]\n",
    "no_20=copy_importances[19]\n",
    "first_10=clf.feature_importances_[clf.feature_importances_>=no_10]\n",
    "relevant_columns_10=X.columns[clf.feature_importances_>=no_10]\n",
    "\n",
    "first_20=clf.feature_importances_[clf.feature_importances_>=no_20]\n",
    "relevant_columns_20=X.columns[clf.feature_importances_>=no_20]\n",
    "\n",
    "#print(sum(first_20))~ first 20 amount to 74% of cumulative Gini importance\n",
    "#Plot importance scores\n",
    "#plt.bar(X.columns, clf.feature_importances_ ) \n",
    "#plt.xlabel('Feature Labels') \n",
    "#plt.ylabel('Feature Importances') \n",
    "#plt.xticks(rotation='vertical')\n",
    "#plt.title('Comparison of different Feature Importances') \n",
    "#plt.show() \n",
    "plt.bar(relevant_columns_20, first_20 ) \n",
    "plt.xlabel('Feature Labels') \n",
    "plt.ylabel('Feature Importances') \n",
    "plt.xticks(rotation='vertical')\n",
    "plt.title('Comparison of different Feature Importances') \n",
    "plt.show() \n",
    "print(relevant_columns_10)\n",
    "print(relevant_columns_20)"
   ]
  },
  {
   "cell_type": "code",
   "execution_count": 7,
   "metadata": {},
   "outputs": [
    {
     "name": "stdout",
     "output_type": "stream",
     "text": [
      "Accuracy: 0.7912192040429564\n"
     ]
    }
   ],
   "source": [
    "#Test models (us and doctor) on EVEN data (balanced classes)\n",
    "model = SelectFromModel(clf, prefit=True)\n",
    "\n",
    "y_pred=clf.predict(X_test)\n",
    "#print(y_pred)\n",
    "from sklearn import metrics\n",
    "print(\"Accuracy:\",metrics.accuracy_score(y_test, y_pred))\n",
    "#print(\"Accuracy doctor balanced:\",metrics.accuracy_score(y_doctor_test_balanced, y_doctor_pred_balanced))\n",
    "#from sklearn.metrics import confusion_matrix\n",
    "#from mlxtend.plotting import plot_confusion_matrix\n",
    "#binary1 = confusion_matrix(y_test, y_pred)\n",
    "#binary2 = confusion_matrix(y_doctor_test_balanced, y_doctor_pred_balanced)\n",
    "#fig, ax = plot_confusion_matrix(conf_mat=binary1)\n",
    "#plt.show()\n",
    "#fig, ax = plot_confusion_matrix(conf_mat=binary2)\n",
    "#plt.show()\n",
    "#print(df.head())\n",
    "y=df.pop('hospital_death')"
   ]
  },
  {
   "cell_type": "code",
   "execution_count": 10,
   "metadata": {},
   "outputs": [
    {
     "name": "stdout",
     "output_type": "stream",
     "text": [
      "Accuracy: 0.8071743989532791\n"
     ]
    }
   ],
   "source": [
    "#Test model on all data\n",
    "#print(df.head())\n",
    "#y=df.pop('hospital_death')\n",
    "#df.pop('apache_4a_hospital_death_prob')\n",
    "#doctor_pred=df.pop('apache_4a_icu_death_prob')\n",
    "\n",
    "#getting predictions for doctors, if doctors predicted with threshold 0.5\n",
    "#length=df.shape[0]\n",
    "#ones=np.ones(length)\n",
    "#doctor_pred=ones*(doctor_pred>0.5)\n",
    "X=df\n",
    "#print('y length=',y.shape[0])\n",
    "#print('X length=',X.shape[0])\n",
    "X_train, X_test, y_train, y_test = train_test_split(X, y, test_size=0.2, random_state=0)\n",
    "y_pred=clf.predict(X_test)\n",
    "\n",
    "#getting doctor predictions\n",
    "#y_doctor_pred=doctor_pred.sample(replace=False, n=18000, random_state=0)\n",
    "#y_test_doctor=y.sample(replace=False, n=18000,random_state=0)\n",
    "#print(y_pred)\n",
    "#print(y_test_doctor)\n",
    "#print(y_doctor_pred)\n",
    "\n",
    "\n",
    "from sklearn import metrics\n",
    "print(\"Accuracy:\",metrics.accuracy_score(y_test, y_pred))\n",
    "#print(\"Accuracy_doctor:\",metrics.accuracy_score(y_test_doctor, y_doctor_pred))"
   ]
  },
  {
   "cell_type": "code",
   "execution_count": 12,
   "metadata": {},
   "outputs": [
    {
     "name": "stdout",
     "output_type": "stream",
     "text": [
      "[[13384  3288]\n",
      " [  249  1422]]\n"
     ]
    },
    {
     "data": {
      "image/png": "[encoded data removed]",
      "text/plain": [
       "<Figure size 432x288 with 1 Axes>"
      ]
     },
     "metadata": {
      "needs_background": "light"
     },
     "output_type": "display_data"
    }
   ],
   "source": [
    "#confusion matrix\n",
    "from sklearn.metrics import confusion_matrix\n",
    "print(confusion_matrix(y_test, y_pred))\n",
    "from mlxtend.plotting import plot_confusion_matrix\n",
    "binary1 = confusion_matrix(y_test, y_pred)\n",
    "#binary2 = confusion_matrix(y_test_doctor, y_doctor_pred)\n",
    "fig, ax = plot_confusion_matrix(conf_mat=binary1)\n",
    "plt.show()\n",
    "#fig, ax = plot_confusion_matrix(conf_mat=binary2)\n",
    "#plt.show()"
   ]
  },
  {
   "cell_type": "code",
   "execution_count": 13,
   "metadata": {},
   "outputs": [
    {
     "name": "stdout",
     "output_type": "stream",
     "text": [
      "[1 1 1 ... 0 1 0]\n",
      "[[0.08411088 0.91588912]\n",
      " [0.01333981 0.98666019]\n",
      " [0.21104083 0.78895917]\n",
      " ...\n",
      " [0.5721527  0.4278473 ]\n",
      " [0.03865951 0.96134049]\n",
      " [0.96048675 0.03951325]]\n"
     ]
    }
   ],
   "source": [
    "#PREDICTIONS: DEATH or LIVE\n",
    "#or PROBABILITY of DEATH\n",
    "#X_test takes in the 20 columns I gave you\n",
    "\n",
    "y_pred=clf.predict(X_test)\n",
    "y_death_probability_prediction=clf.predict_proba(X_test)\n",
    "print(y_pred)\n",
    "print(y_death_probability_prediction)\n"
   ]
  },
  {
   "cell_type": "code",
   "execution_count": 17,
   "metadata": {},
   "outputs": [],
   "source": [
    "import pickle\n",
    "\n",
    "pkl_filename = \"pickle_model_20.pkl\"\n",
    "with open(pkl_filename, 'wb') as file:\n",
    "    pickle.dump(model, file)\n",
    "\n",
    "# Load from file\n",
    "with open(pkl_filename, 'rb') as file:\n",
    "    pickle_model = pickle.load(file)\n",
    "    \n",
    "# Calculate the accuracy score and predict target values\n",
    "#score = pickle_model.score(X_test, y_test)\n",
    "#print(\"Test score: {0:.2f} %\".format(100 * score))\n",
    "#Ypredict = pickle_model.predict(X_test)"
   ]
  },
  {
   "cell_type": "code",
   "execution_count": null,
   "metadata": {},
   "outputs": [],
   "source": []
  }
 ],
 "metadata": {
  "kernelspec": {
   "display_name": "Python 3",
   "language": "python",
   "name": "python3"
  },
  "language_info": {
   "codemirror_mode": {
    "name": "ipython",
    "version": 3
   },
   "file_extension": ".py",
   "mimetype": "text/x-python",
   "name": "python",
   "nbconvert_exporter": "python",
   "pygments_lexer": "ipython3",
   "version": "3.7.1"
  }
 },
 "nbformat": 4,
 "nbformat_minor": 2
}
