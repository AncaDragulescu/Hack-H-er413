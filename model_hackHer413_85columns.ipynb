{
 "cells": [
  {
   "cell_type": "code",
   "execution_count": 209,
   "metadata": {},
   "outputs": [],
   "source": [
    "#using a tree-based feature reduction algorithm\n",
    "import numpy as np\n",
    "import matplotlib.pyplot as plt\n",
    "from sklearn.ensemble import ExtraTreesClassifier\n",
    "from sklearn.feature_selection import SelectFromModel\n",
    "import pandas as pd\n",
    "\n",
    "DATAPATH='/Users/anca/Downloads/Hack-H-er413-master 2/model/full_random_sample.csv'\n",
    "df=pd.read_csv(DATAPATH)\n",
    "df_majority=df[df['hospital_death']==0]\n",
    "df_minority=df[df['hospital_death']==1]\n",
    "\n",
    "df_majority_downsampled = df_majority.sample(replace=False,    # sample without replacement\n",
    "                                             n=df_minority.shape[0],\n",
    "                                             random_state=0)     # to match minority class    #reproducible results\n",
    "df_downsampled = pd.concat([df_majority_downsampled, df_minority])\n",
    "working_df=df_downsampled\n",
    "\n",
    "\n"
   ]
  },
  {
   "cell_type": "code",
   "execution_count": 210,
   "metadata": {},
   "outputs": [],
   "source": [
    "y=working_df.pop('hospital_death')\n",
    "length_partial=working_df.shape[0]\n",
    "working_df.pop('apache_4a_hospital_death_prob')\n",
    "#doctor_pred_partial=working_df.pop('apache_4a_icu_death_prob')\n",
    "#doctor_pred_partial=(doctor_pred_partial>0.5)*np.ones(length_partial)\n",
    "X=working_df\n",
    "#y=y.to_numpy()\n",
    "#X=X.to_numpy()\n",
    "from sklearn.model_selection import train_test_split\n",
    "X_train, X_test, y_train, y_test = train_test_split(X, y, test_size=0.2, random_state=0)\n",
    "#y_doctor_test_balanced=doctor_pred_partial.sample(replace=False, n=3000, random_state=0)\n",
    "#y_doctor_pred_balanced=y.sample(replace=False, n=3000, random_state=0)"
   ]
  },
  {
   "cell_type": "code",
   "execution_count": 211,
   "metadata": {},
   "outputs": [],
   "source": [
    "#IDENTIFYING IMPORTANT FEATURES"
   ]
  },
  {
   "cell_type": "code",
   "execution_count": 212,
   "metadata": {},
   "outputs": [
    {
     "data": {
      "image/png": "[encoded data removed]",
      "text/plain": [
       "<Figure size 432x288 with 1 Axes>"
      ]
     },
     "metadata": {
      "needs_background": "light"
     },
     "output_type": "display_data"
    },
    {
     "name": "stdout",
     "output_type": "stream",
     "text": [
      "Index(['age', 'gcs_eyes_apache', 'gcs_motor_apache', 'gcs_verbal_apache',\n",
      "       'ventilated_apache', 'd1_mbp_min', 'd1_sysbp_min',\n",
      "       'd1_sysbp_noninvasive_min', 'd1_bun_min', 'apache_4a_icu_death_prob'],\n",
      "      dtype='object')\n",
      "Index(['age', 'bun_apache', 'gcs_eyes_apache', 'gcs_motor_apache',\n",
      "       'gcs_verbal_apache', 'heart_rate_apache', 'intubated_apache',\n",
      "       'ventilated_apache', 'd1_diasbp_noninvasive_min', 'd1_mbp_min',\n",
      "       'd1_mbp_noninvasive_min', 'd1_resprate_max', 'd1_spo2_min',\n",
      "       'd1_sysbp_min', 'd1_sysbp_noninvasive_min', 'h1_resprate_max',\n",
      "       'h1_sysbp_noninvasive_min', 'd1_bun_min', 'd1_creatinine_min',\n",
      "       'apache_4a_icu_death_prob'],\n",
      "      dtype='object')\n"
     ]
    }
   ],
   "source": [
    "#df=df.to_numpy()\n",
    "#need to insert dataset below\n",
    "#X=X.to_numpy()\n",
    "#y=y.to_numpy()\n",
    "#X.shape\n",
    "\n",
    "#GET IMPORTANT FEATURES\n",
    "#clf=classifier :))#\n",
    "\n",
    "clf = ExtraTreesClassifier(n_estimators=50, min_samples_leaf=10, max_features=20)\n",
    "#n_estimtors = number of trees in forest\n",
    "#min_samples_split= minumum number before node splitting in tree, maybe 5\n",
    "#min_samples_leaf\n",
    "#max_features\n",
    "clf = clf.fit(X_train, y_train)\n",
    "\n",
    "clf.feature_importances_ \n",
    "\n",
    "#print(clf.feature_importances_ )\n",
    "copy_importances=np.sort(clf.feature_importances_)\n",
    "copy_importances=np.flip(copy_importances)\n",
    "#print(copy_importances)\n",
    "#Get the 10th and 20th most important features\n",
    "no_10=copy_importances[9]\n",
    "no_20=copy_importances[19]\n",
    "first_10=clf.feature_importances_[clf.feature_importances_>=no_10]\n",
    "relevant_columns_10=X.columns[clf.feature_importances_>=no_10]\n",
    "\n",
    "first_20=clf.feature_importances_[clf.feature_importances_>=no_20]\n",
    "relevant_columns_20=X.columns[clf.feature_importances_>=no_20]\n",
    "\n",
    "#print(sum(first_20))~ first 20 amount to 74% of cumulative Gini importance\n",
    "#Plot importance scores\n",
    "#plt.bar(X.columns, clf.feature_importances_ ) \n",
    "#plt.xlabel('Feature Labels') \n",
    "#plt.ylabel('Feature Importances') \n",
    "#plt.xticks(rotation='vertical')\n",
    "#plt.title('Comparison of different Feature Importances') \n",
    "#plt.show() \n",
    "plt.bar(relevant_columns_20, first_20 ) \n",
    "plt.xlabel('Feature Labels') \n",
    "plt.ylabel('Feature Importances') \n",
    "plt.xticks(rotation='vertical')\n",
    "plt.title('Comparison of different Feature Importances') \n",
    "plt.show() \n",
    "print(relevant_columns_10)\n",
    "print(relevant_columns_20)"
   ]
  },
  {
   "cell_type": "code",
   "execution_count": 213,
   "metadata": {},
   "outputs": [
    {
     "name": "stdout",
     "output_type": "stream",
     "text": [
      "Accuracy: 0.7852179406190777\n",
      "Accuracy doctor balanced: 0.584\n"
     ]
    }
   ],
   "source": [
    "#Test models (us and doctor) on EVEN data (balanced classes)\n",
    "model = SelectFromModel(clf, prefit=True)\n",
    "\n",
    "y_pred=clf.predict(X_test)\n",
    "#print(y_pred)\n",
    "from sklearn import metrics\n",
    "print(\"Accuracy:\",metrics.accuracy_score(y_test, y_pred))\n",
    "print(\"Accuracy doctor balanced:\",metrics.accuracy_score(y_doctor_test_balanced, y_doctor_pred_balanced))\n",
    "#from sklearn.metrics import confusion_matrix\n",
    "#from mlxtend.plotting import plot_confusion_matrix\n",
    "#binary1 = confusion_matrix(y_test, y_pred)\n",
    "#binary2 = confusion_matrix(y_doctor_test_balanced, y_doctor_pred_balanced)\n",
    "#fig, ax = plot_confusion_matrix(conf_mat=binary1)\n",
    "#plt.show()\n",
    "#fig, ax = plot_confusion_matrix(conf_mat=binary2)\n",
    "#plt.show()\n",
    "#print(df.head())\n",
    "y=df.pop('hospital_death')\n"
   ]
  },
  {
   "cell_type": "code",
   "execution_count": 202,
   "metadata": {},
   "outputs": [
    {
     "name": "stdout",
     "output_type": "stream",
     "text": [
      "    age  albumin_apache  bun_apache  fio2_apache  gcs_eyes_apache  \\\n",
      "0  68.0             2.3        31.0          1.0                2   \n",
      "1  77.0             3.5         9.0          1.0                0   \n",
      "2  25.0             2.3         9.0          0.3                2   \n",
      "3  81.0             2.8        12.0          0.6                3   \n",
      "4  19.0             3.3        40.0          1.0               -1   \n",
      "\n",
      "   gcs_motor_apache  gcs_unable_apache  gcs_verbal_apache  heart_rate_apache  \\\n",
      "0                 5                  0                  3              118.0   \n",
      "1                 2                  0                  0              120.0   \n",
      "2                 5                  0                  4              102.0   \n",
      "3                 5                  0                  4              114.0   \n",
      "4                -1                 -1                 -1               60.0   \n",
      "\n",
      "   intubated_apache  ...  h1_pao2fio2ratio_min  apache_4a_hospital_death_prob  \\\n",
      "0                 0  ...            592.000000                           0.10   \n",
      "1                 0  ...             51.000000                           0.47   \n",
      "2                 0  ...            185.714286                           0.00   \n",
      "3                 1  ...            337.000000                           0.04   \n",
      "4                 0  ...            201.250000                           0.03   \n",
      "\n",
      "   apache_4a_icu_death_prob  aids  cirrhosis  hepatic_failure  \\\n",
      "0                      0.05     0          0                0   \n",
      "1                      0.29     0          0                0   \n",
      "2                      0.00     0          0                0   \n",
      "3                      0.03     0          0                0   \n",
      "4                      0.04     0          0                0   \n",
      "\n",
      "   immunosuppression  leukemia  lymphoma  solid_tumor_with_metastasis  \n",
      "0                  0         0         0                            0  \n",
      "1                  0         0         0                            0  \n",
      "2                  0         0         0                            0  \n",
      "3                  0         0         0                            0  \n",
      "4                  0         0         0                            0  \n",
      "\n",
      "[5 rows x 84 columns]\n",
      "y length= 91713\n",
      "X length= 91713\n",
      "[1 1 1 ... 0 1 0]\n",
      "64436    0\n",
      "47002    1\n",
      "16901    0\n",
      "45206    0\n",
      "75620    0\n",
      "        ..\n",
      "15565    0\n",
      "36350    0\n",
      "15502    0\n",
      "34535    1\n",
      "74678    0\n",
      "Name: hospital_death, Length: 18000, dtype: int64\n",
      "64436    0.0\n",
      "47002    1.0\n",
      "16901    0.0\n",
      "45206    0.0\n",
      "75620    0.0\n",
      "        ... \n",
      "15565    0.0\n",
      "36350    0.0\n",
      "15502    0.0\n",
      "34535    0.0\n",
      "74678    0.0\n",
      "Name: apache_4a_icu_death_prob, Length: 18000, dtype: float64\n",
      "Accuracy: 0.7926729542604808\n",
      "Accuracy_doctor: 0.9168888888888889\n"
     ]
    }
   ],
   "source": [
    "#Test model on all data\n",
    "#print(df.head())\n",
    "#y=df.pop('hospital_death')\n",
    "df.pop('apache_4a_hospital_death_prob')\n",
    "#doctor_pred=df.pop('apache_4a_icu_death_prob')\n",
    "\n",
    "#getting predictions for doctors, if doctors predicted with threshold 0.5\n",
    "#length=df.shape[0]\n",
    "#ones=np.ones(length)\n",
    "#doctor_pred=ones*(doctor_pred>0.5)\n",
    "X=df\n",
    "print('y length=',y.shape[0])\n",
    "print('X length=',X.shape[0])\n",
    "X_train, X_test, y_train, y_test = train_test_split(X, y, test_size=0.2, random_state=0)\n",
    "y_pred=clf.predict(X_test)\n",
    "\n",
    "#getting doctor predictions\n",
    "#y_doctor_pred=doctor_pred.sample(replace=False, n=18000, random_state=0)\n",
    "#y_test_doctor=y.sample(replace=False, n=18000,random_state=0)\n",
    "#print(y_pred)\n",
    "#print(y_test_doctor)\n",
    "#print(y_doctor_pred)\n",
    "\n",
    "\n",
    "from sklearn import metrics\n",
    "print(\"Accuracy:\",metrics.accuracy_score(y_test, y_pred))\n",
    "print(\"Accuracy_doctor:\",metrics.accuracy_score(y_test_doctor, y_doctor_pred))"
   ]
  },
  {
   "cell_type": "code",
   "execution_count": 214,
   "metadata": {},
   "outputs": [
    {
     "name": "stdout",
     "output_type": "stream",
     "text": [
      "[[1237  331]\n",
      " [ 349 1249]]\n"
     ]
    },
    {
     "data": {
      "image/png": "[encoded data removed]",
      "text/plain": [
       "<Figure size 432x288 with 1 Axes>"
      ]
     },
     "metadata": {
      "needs_background": "light"
     },
     "output_type": "display_data"
    },
    {
     "data": {
      "image/png": "[encoded data removed]",
      "text/plain": [
       "<Figure size 432x288 with 1 Axes>"
      ]
     },
     "metadata": {
      "needs_background": "light"
     },
     "output_type": "display_data"
    }
   ],
   "source": [
    "#confusion matrix\n",
    "from sklearn.metrics import confusion_matrix\n",
    "print(confusion_matrix(y_test, y_pred))\n",
    "from mlxtend.plotting import plot_confusion_matrix\n",
    "binary1 = confusion_matrix(y_test, y_pred)\n",
    "binary2 = confusion_matrix(y_test_doctor, y_doctor_pred)\n",
    "fig, ax = plot_confusion_matrix(conf_mat=binary1)\n",
    "plt.show()\n",
    "fig, ax = plot_confusion_matrix(conf_mat=binary2)\n",
    "plt.show()"
   ]
  },
  {
   "cell_type": "code",
   "execution_count": 220,
   "metadata": {},
   "outputs": [
    {
     "name": "stdout",
     "output_type": "stream",
     "text": [
      "[0 0 1 ... 1 1 0]\n",
      "[[0.84493132 0.15506868]\n",
      " [0.54875799 0.45124201]\n",
      " [0.0266034  0.9733966 ]\n",
      " ...\n",
      " [0.06444067 0.93555933]\n",
      " [0.17194195 0.82805805]\n",
      " [0.92151097 0.07848903]]\n",
      "        age  albumin_apache  bun_apache  fio2_apache  gcs_eyes_apache  \\\n",
      "21140  62.0             3.0         9.0          0.4                3   \n",
      "48796  46.0             3.0        27.4          0.6                3   \n",
      "41390  84.0             2.6        33.0          1.0                0   \n",
      "84982  65.0             3.9        45.0          0.4                1   \n",
      "22916  82.0             2.4        41.0          1.0                3   \n",
      "\n",
      "       gcs_motor_apache  gcs_unable_apache  gcs_verbal_apache  \\\n",
      "21140                 5                  0                  4   \n",
      "48796                 5                  0                  4   \n",
      "41390                 0                  0                  0   \n",
      "84982                 3                  0                  0   \n",
      "22916                 5                  0                  3   \n",
      "\n",
      "       heart_rate_apache  intubated_apache  ...  h1_arterial_po2_max  \\\n",
      "21140               55.0                 0  ...                 87.5   \n",
      "48796              114.0                 0  ...                 83.0   \n",
      "41390              112.0                 1  ...                 84.0   \n",
      "84982               60.0                 1  ...                123.0   \n",
      "22916              149.0                 1  ...                296.0   \n",
      "\n",
      "       h1_pao2fio2ratio_min  apache_4a_icu_death_prob  aids  cirrhosis  \\\n",
      "21140                 400.0                      0.01     0          0   \n",
      "48796                  50.8                      0.04     0          0   \n",
      "41390                 143.0                      0.86     0          0   \n",
      "84982                 131.2                      0.09     0          0   \n",
      "22916                 172.0                      0.32     0          0   \n",
      "\n",
      "       hepatic_failure  immunosuppression  leukemia  lymphoma  \\\n",
      "21140                0                  0         0         0   \n",
      "48796                0                  0         0         0   \n",
      "41390                0                  0         0         0   \n",
      "84982                0                  0         0         0   \n",
      "22916                0                  0         0         0   \n",
      "\n",
      "       solid_tumor_with_metastasis  \n",
      "21140                            0  \n",
      "48796                            1  \n",
      "41390                            0  \n",
      "84982                            0  \n",
      "22916                            0  \n",
      "\n",
      "[5 rows x 83 columns]\n",
      "{'bootstrap': False, 'class_weight': None, 'criterion': 'gini', 'max_depth': None, 'max_features': 20, 'max_leaf_nodes': None, 'min_impurity_decrease': 0.0, 'min_impurity_split': None, 'min_samples_leaf': 10, 'min_samples_split': 2, 'min_weight_fraction_leaf': 0.0, 'n_estimators': 50, 'n_jobs': None, 'oob_score': False, 'random_state': None, 'verbose': 0, 'warm_start': False}\n"
     ]
    },
    {
     "ename": "AttributeError",
     "evalue": "'ExtraTreesClassifier' object has no attribute 'coef_'",
     "output_type": "error",
     "traceback": [
      "\u001b[0;31m---------------------------------------------------------------------------\u001b[0m",
      "\u001b[0;31mAttributeError\u001b[0m                            Traceback (most recent call last)",
      "\u001b[0;32m<ipython-input-220-06deb19d28ee>\u001b[0m in \u001b[0;36m<module>\u001b[0;34m\u001b[0m\n\u001b[1;32m      9\u001b[0m \u001b[0mprint\u001b[0m \u001b[0;34m(\u001b[0m\u001b[0mX_test\u001b[0m\u001b[0;34m.\u001b[0m\u001b[0mhead\u001b[0m\u001b[0;34m(\u001b[0m\u001b[0;34m)\u001b[0m\u001b[0;34m)\u001b[0m\u001b[0;34m\u001b[0m\u001b[0;34m\u001b[0m\u001b[0m\n\u001b[1;32m     10\u001b[0m \u001b[0mprint\u001b[0m \u001b[0;34m(\u001b[0m\u001b[0mclf\u001b[0m\u001b[0;34m.\u001b[0m\u001b[0mget_params\u001b[0m\u001b[0;34m(\u001b[0m\u001b[0;34m)\u001b[0m\u001b[0;34m)\u001b[0m\u001b[0;34m\u001b[0m\u001b[0;34m\u001b[0m\u001b[0m\n\u001b[0;32m---> 11\u001b[0;31m \u001b[0mprint\u001b[0m\u001b[0;34m(\u001b[0m\u001b[0mclf\u001b[0m\u001b[0;34m.\u001b[0m\u001b[0mcoef_\u001b[0m\u001b[0;34m)\u001b[0m\u001b[0;34m\u001b[0m\u001b[0;34m\u001b[0m\u001b[0m\n\u001b[0m",
      "\u001b[0;31mAttributeError\u001b[0m: 'ExtraTreesClassifier' object has no attribute 'coef_'"
     ]
    }
   ],
   "source": [
    "#PREDICTIONS: DEATH or LIVE\n",
    "#or PROBABILITY of DEATH\n",
    "#X_test is the original, 85 column DataFrame\n",
    "\n",
    "y_pred=clf.predict(X_test)\n",
    "y_death_probability_prediction=clf.predict_proba(X_test)\n",
    "print(y_pred)\n",
    "print(y_death_probability_prediction)\n"
   ]
  },
  {
   "cell_type": "code",
   "execution_count": null,
   "metadata": {},
   "outputs": [],
   "source": []
  }
 ],
 "metadata": {
  "kernelspec": {
   "display_name": "Python 3",
   "language": "python",
   "name": "python3"
  },
  "language_info": {
   "codemirror_mode": {
    "name": "ipython",
    "version": 3
   },
   "file_extension": ".py",
   "mimetype": "text/x-python",
   "name": "python",
   "nbconvert_exporter": "python",
   "pygments_lexer": "ipython3",
   "version": "3.7.1"
  }
 },
 "nbformat": 4,
 "nbformat_minor": 2
}
