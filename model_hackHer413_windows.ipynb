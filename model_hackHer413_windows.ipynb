{
 "cells": [
  {
   "cell_type": "code",
   "execution_count": 25,
   "metadata": {},
   "outputs": [
    {
     "name": "stdout",
     "output_type": "stream",
     "text": [
      "83798\n",
      "(15830, 112)\n"
     ]
    }
   ],
   "source": [
    "#using a tree-based feature reduction algorithm\n",
    "import numpy as np\n",
    "import matplotlib.pyplot as plt\n",
    "from sklearn.ensemble import ExtraTreesClassifier\n",
    "from sklearn.feature_selection import SelectFromModel\n",
    "import pandas as pd\n",
    "\n",
    "DATAPATH='C:\\\\Users\\\\CodeB\\\\Documents\\\\GitHub\\\\Hack-H-er413\\\\model\\\\clean_categorical_float_imputed_mean.csv'\n",
    "df=pd.read_csv(DATAPATH)\n",
    "df_majority=df[df['hospital_death']==0]\n",
    "df_minority=df[df['hospital_death']==1]\n",
    "print(df_majority.shape[0])\n",
    "df_majority_downsampled = df_majority.sample(replace=False,    # sample without replacement\n",
    "                                             n=df_minority.shape[0],\n",
    "                                             random_state=0)     # to match minority class    #reproducible results\n",
    "df_downsampled = pd.concat([df_majority_downsampled, df_minority])\n",
    "working_df=df_downsampled.sample(replace=False,\n",
    "                                 frac=0.1,\n",
    "                                 random_state=0)\n",
    "print (df_downsampled.shape)\n"
   ]
  },
  {
   "cell_type": "code",
   "execution_count": 26,
   "metadata": {},
   "outputs": [],
   "source": [
    "y=working_df.pop('hospital_death')\n",
    "X=working_df\n",
    "#y=y.to_numpy()\n",
    "#X=X.to_numpy()\n",
    "from sklearn.model_selection import train_test_split\n",
    "X_train, X_test, y_train, y_test = train_test_split(X, y, test_size=0.2, random_state=0)\n"
   ]
  },
  {
   "cell_type": "code",
   "execution_count": 27,
   "metadata": {},
   "outputs": [],
   "source": [
    "#SELECT DATA FOR TESTING"
   ]
  },
  {
   "cell_type": "code",
   "execution_count": 28,
   "metadata": {},
   "outputs": [
    {
     "data": {
      "image/png": "[encoded data removed]",
      "text/plain": [
       "<Figure size 432x288 with 1 Axes>"
      ]
     },
     "metadata": {
      "needs_background": "light"
     },
     "output_type": "display_data"
    }
   ],
   "source": [
    "#df=df.to_numpy()\n",
    "#need to insert dataset below\n",
    "#X=X.to_numpy()\n",
    "#y=y.to_numpy()\n",
    "#X.shape\n",
    "\n",
    "#GET IMPORTANT FEATURES\n",
    "#clf=classifier :))#\n",
    "\n",
    "clf = ExtraTreesClassifier(n_estimators=50, min_samples_leaf=10, max_features=15)\n",
    "#n_estimtors = number of trees in forest\n",
    "#min_samples_split= minumum number before node splitting in tree, maybe 5\n",
    "#min_samples_leaf\n",
    "#max_features\n",
    "clf = clf.fit(X_train, y_train)\n",
    "clf.feature_importances_ \n",
    "feature_importance_normalized = np.std([clf.feature_importances_ for tree in clf.estimators_], \n",
    "                                        axis = 0) \n",
    "plt.bar(X.columns, feature_importance_normalized) \n",
    "plt.xlabel('Feature Labels') \n",
    "plt.ylabel('Feature Importances') \n",
    "plt.title('Comparison of different Feature Importances') \n",
    "plt.show() "
   ]
  },
  {
   "cell_type": "code",
   "execution_count": null,
   "metadata": {},
   "outputs": [],
   "source": [
    "#MODIFY INPUT\n",
    "model = SelectFromModel(clf, prefit=True)\n",
    "X_new = model.transform(X)\n",
    "X_new.shape\n"
   ]
  },
  {
   "cell_type": "code",
   "execution_count": null,
   "metadata": {},
   "outputs": [],
   "source": [
    "# Print the feature ranking\n",
    "print(\"Feature ranking:\")\n",
    "\n",
    "for f in range(X.shape[1]):\n",
    "    print(\"%d. feature %d (%f)\" % (f + 1, indices[f], importances[indices[f]]))\n",
    "    \n",
    "#plot feature importance\n",
    "plt.figure()\n",
    "plt.title(\"Feature importances\")\n",
    "plt.bar(range(X.shape[1]), importances[indices],\n",
    "       color=\"r\", yerr=std[indices], align=\"center\")\n",
    "plt.xticks(range(X.shape[1]), indices)\n",
    "plt.xlim([-1, X.shape[1]])\n",
    "plt.show()"
   ]
  },
  {
   "cell_type": "code",
   "execution_count": null,
   "metadata": {},
   "outputs": [],
   "source": [
    "#TRAIN DECISION TREE\n",
    "from sklearn import tree"
   ]
  }
 ],
 "metadata": {
  "kernelspec": {
   "display_name": "Python 3",
   "language": "python",
   "name": "python3"
  },
  "language_info": {
   "codemirror_mode": {
    "name": "ipython",
    "version": 3
   },
   "file_extension": ".py",
   "mimetype": "text/x-python",
   "name": "python",
   "nbconvert_exporter": "python",
   "pygments_lexer": "ipython3",
   "version": "3.7.3"
  }
 },
 "nbformat": 4,
 "nbformat_minor": 2
}
